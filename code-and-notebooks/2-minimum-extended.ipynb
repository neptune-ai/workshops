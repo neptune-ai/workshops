{
 "cells": [
  {
   "cell_type": "code",
   "execution_count": null,
   "metadata": {},
   "outputs": [],
   "source": [
    "import neptune\n",
    "import numpy as np"
   ]
  },
  {
   "cell_type": "code",
   "execution_count": null,
   "metadata": {},
   "outputs": [],
   "source": [
    "# Select project\n",
    "neptune.init('neptune-workshops/AII-Optimali')"
   ]
  },
  {
   "cell_type": "code",
   "execution_count": null,
   "metadata": {},
   "outputs": [],
   "source": [
    "# Define parameters\n",
    "PARAMS = {'decay_factor': 0.5,\n",
    "          'n_iterations': 117}"
   ]
  },
  {
   "cell_type": "code",
   "execution_count": null,
   "metadata": {},
   "outputs": [],
   "source": [
    "# Create experiment\n",
    "neptune.create_experiment(name='minimal-extended-from-notebook',\n",
    "                          params=PARAMS)"
   ]
  },
  {
   "cell_type": "code",
   "execution_count": null,
   "metadata": {},
   "outputs": [],
   "source": [
    "# Log some metrics\n",
    "for i in range(1, PARAMS['n_iterations']):\n",
    "    neptune.log_metric('iteration', i)\n",
    "    neptune.log_metric('loss', PARAMS['decay_factor']/i**0.5)\n",
    "    neptune.log_text('text_info', 'some value {}'.format(0.95*i**2))\n",
    "\n",
    "# Add tag to the experiment\n",
    "neptune.append_tag('quick_start')\n",
    "\n",
    "# Log some images\n",
    "for j in range(5):\n",
    "    array = np.random.rand(10, 10, 3)*255\n",
    "    array = np.repeat(array, 30, 0)\n",
    "    array = np.repeat(array, 30, 1)\n",
    "    neptune.log_image('mosaics', array)"
   ]
  },
  {
   "cell_type": "code",
   "execution_count": null,
   "metadata": {},
   "outputs": [],
   "source": [
    "neptune.stop()"
   ]
  }
 ],
 "metadata": {
  "kernelspec": {
   "display_name": "Python 3",
   "language": "python",
   "name": "python3"
  },
  "language_info": {
   "codemirror_mode": {
    "name": "ipython",
    "version": 3
   },
   "file_extension": ".py",
   "mimetype": "text/x-python",
   "name": "python",
   "nbconvert_exporter": "python",
   "pygments_lexer": "ipython3",
   "version": "3.6.9"
  }
 },
 "nbformat": 4,
 "nbformat_minor": 4
}
